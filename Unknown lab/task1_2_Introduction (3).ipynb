{
 "cells": [
  {
   "cell_type": "markdown",
   "source": [
    "Для ввода данных в программу используется функция **input()**. Функция считывает одну строку.\n",
    "\n",
    "Вот программа, которая считывает имя пользователя и приветствует его:"
   ],
   "metadata": {}
  },
  {
   "cell_type": "code",
   "execution_count": null,
   "source": [
    "print('Как вас зовут?')\r\n",
    "name = input()  # считываем строку и кладём её в переменную name\r\n",
    "print('Здравствуйте, ' + name + '!')"
   ],
   "outputs": [],
   "metadata": {}
  },
  {
   "cell_type": "markdown",
   "source": [
    "Напишите программу, которая считывает два числа и выводит их сумму. \n",
    "Для этого считаем два числа и сохраним их в переменные a и b, пользуясь оператором присваивания =. \n",
    "Выполните представленные ниже инструкции: a=3, b=4"
   ],
   "metadata": {}
  },
  {
   "cell_type": "code",
   "execution_count": null,
   "source": [
    "a = input()\r\n",
    "b = input()\r\n",
    "c = a + b\r\n",
    "print(c)"
   ],
   "outputs": [],
   "metadata": {}
  },
  {
   "cell_type": "markdown",
   "source": [
    "Результат работы программы: 34. Однако в реальной жизни 3 + 4 = 7. \n",
    "Это произошло потому, что Питон в третьей строчке «сложил» две строки, а не два числа. \n",
    "\n",
    "В Питоне все данные называются объектами. \n",
    "Число 2 представляется объектом «число 2», строка 'hello' – это объект «строка 'hello'».\n",
    "\n",
    "Каждый объект относится к какому-то типу. \n",
    "Строки хранятся в объектах типа **str**, целые числа хранятся в объектах типа **int**, \n",
    "дробные числа (вещественные числа) — в объектах типа **float**. \n",
    "Тип объекта определяет, какие действия можно делать с объектами этого типа. \n",
    "Например, если в переменных **first** и **second** лежат объекты типа **int**, то их можно перемножить, \n",
    "а если в них лежат объекты типа **str**, то их перемножить нельзя:"
   ],
   "metadata": {}
  },
  {
   "cell_type": "code",
   "execution_count": null,
   "source": [
    "first = 5\r\n",
    "second = 7\r\n",
    "print(first * second)\r\n",
    "first = '5'\r\n",
    "second = '7'\r\n",
    "print(first * second)"
   ],
   "outputs": [],
   "metadata": {}
  },
  {
   "cell_type": "markdown",
   "source": [
    "Чтобы преобразовать строку из цифр в целое число, воспользуемся функцией **int()**. Например, int('23') вернет число 23.\n",
    "Вот пример правильной программы, которая считывает два числа и выводит их сумму:"
   ],
   "metadata": {}
  },
  {
   "cell_type": "code",
   "execution_count": null,
   "source": [
    "a = int(input())\r\n",
    "b = int(input())\r\n",
    "s = a + b\r\n",
    "print(s)"
   ],
   "outputs": [],
   "metadata": {}
  },
  {
   "cell_type": "markdown",
   "source": [
    "Рассмотрим следующий пример: извлечение квадратного корня"
   ],
   "metadata": {}
  },
  {
   "cell_type": "code",
   "execution_count": null,
   "source": [
    "sqrt(4)"
   ],
   "outputs": [],
   "metadata": {}
  },
  {
   "cell_type": "markdown",
   "source": [
    "Извлечение квадратного корня не входит в комплект математических операций, доступных в Python по умолчанию, \n",
    "поэтому попытка выполнить инструкцию привела к ошибке. \n",
    "\n",
    "NameError: name 'sqrt' is not defined \n",
    "    \n",
    "Для определения данной функции необходимо подключить соответствующую библиотеку    \n",
    "\n",
    "Это можно сделать разными способами."
   ],
   "metadata": {}
  },
  {
   "cell_type": "code",
   "execution_count": null,
   "source": [
    "import math\r\n",
    "math.sqrt(4)"
   ],
   "outputs": [],
   "metadata": {}
  },
  {
   "cell_type": "markdown",
   "source": [
    "После того, как модуль math импортирован, вы можете узнать, какие ещё в нём есть функции. \n",
    "В IPython Notebook для этого достаточно ввести имя модуля, поставить точку и нажать кнопку «Tab». Вот, например, синус:"
   ],
   "metadata": {}
  },
  {
   "cell_type": "code",
   "execution_count": null,
   "source": [
    "math.sin(0)"
   ],
   "outputs": [],
   "metadata": {}
  },
  {
   "cell_type": "markdown",
   "source": [
    "Приведенный синтаксис может оказаться неудобным, если вам часто приходится вызывать какие-то математические функции. \n",
    "Чтобы не писать каждый раз слово «math», можно импортировать из модуля конкретные функции."
   ],
   "metadata": {}
  },
  {
   "cell_type": "code",
   "execution_count": null,
   "source": [
    "from math import sqrt"
   ],
   "outputs": [],
   "metadata": {}
  },
  {
   "cell_type": "code",
   "execution_count": null,
   "source": [
    "sqrt(4)"
   ],
   "outputs": [],
   "metadata": {}
  },
  {
   "cell_type": "markdown",
   "source": [
    "Вещественные числа в программировании не так просты. Вот, например, посчитаем синус числа π:"
   ],
   "metadata": {}
  },
  {
   "cell_type": "code",
   "execution_count": 1,
   "source": [
    "from math import pi, sin\r\n",
    "sin(pi)\r\n",
    "# думаете, получится 0? Ха-ха!"
   ],
   "outputs": [
    {
     "output_type": "execute_result",
     "data": {
      "text/plain": [
       "1.2246467991473532e-16"
      ]
     },
     "metadata": {},
     "execution_count": 1
    }
   ],
   "metadata": {}
  },
  {
   "cell_type": "markdown",
   "source": [
    "Непонятный ответ? Во-первых, это так называемая компьютерная форма экспоненциальной записи чисел. \n",
    "Она удобна, если нужно уметь записывать очень большие или очень маленькие числа: \n",
    "1.2E2 означает 1,2⋅102, то есть 1200, а 2.4e-3 — то же самое, что 2,4⋅10−3=0,0024. \n",
    "Результат, посчитанный Python для sinπ, имеет порядок 10−16 — это очень маленькое число, близкое к нулю. \n",
    "Почему не «настоящий» ноль? \n",
    "Все вычисления в вещественных числах делаются компьютером с некоторой ограниченной точностью, \n",
    "поэтому зачастую вместо «честных» ответов получаются такие приближенные. К этому надо быть готовым."
   ],
   "metadata": {}
  },
  {
   "cell_type": "markdown",
   "source": [
    "# Переменные"
   ],
   "metadata": {}
  },
  {
   "cell_type": "markdown",
   "source": [
    "Понятие «переменной» в программировании похоже на аналогичное понятие в математике. \n",
    "Переменная — это ячейка памяти, обозначаемая каким-то именем. \n",
    "В этой ячейке могут храниться числа, строки и более сложные объекты. \n",
    "Мы пока поработаем немножко с числовыми переменными."
   ],
   "metadata": {}
  },
  {
   "cell_type": "code",
   "execution_count": null,
   "source": [
    "x = 4\r\n",
    "x"
   ],
   "outputs": [],
   "metadata": {}
  },
  {
   "cell_type": "markdown",
   "source": [
    "В отличие, например, от языков C или Паскаль, \n",
    "в Питоне не нужно как-то специально объявлять переменную — достаточно просто присвоить ей значение, и можно пользоваться!"
   ],
   "metadata": {}
  },
  {
   "cell_type": "code",
   "execution_count": null,
   "source": [
    "x + 2"
   ],
   "outputs": [],
   "metadata": {}
  },
  {
   "cell_type": "code",
   "execution_count": null,
   "source": [
    "x = x + 2"
   ],
   "outputs": [],
   "metadata": {}
  },
  {
   "cell_type": "markdown",
   "source": [
    "С математической точки зрения, приведенная выше строчка кажется бессмыслицей — равенством, которое никогда не является верным. \n",
    "С точки зрения программирования, это команда, которая говорит «вычисли значение того, \n",
    "что стоит в правой части равенства, и присвой то, что получилось, переменной, стоящей в левой части равенства». \n",
    "Если вы знакомы с языком Pascal, вы бы написали «:=» вместо «=», \n",
    "но в Питоне используется синтаксис, более похожий на C — одиночное равенство означает операцию присвоения значения."
   ],
   "metadata": {}
  },
  {
   "cell_type": "code",
   "execution_count": null,
   "source": [
    "x"
   ],
   "outputs": [],
   "metadata": {}
  },
  {
   "cell_type": "markdown",
   "source": [
    "Переменные могут хранить не только числа, но и другие данные."
   ],
   "metadata": {}
  },
  {
   "cell_type": "markdown",
   "source": [
    "# Ввод данных"
   ],
   "metadata": {}
  },
  {
   "cell_type": "markdown",
   "source": [
    "Работа в Jupyter / IPython Notebook редко требует писать код, который сам по себе запрашивает данные с клавиатуры, \n",
    "но для других приложений (и в частности для домашних работ) это может потребоваться. \n",
    "К тому же, написание интерактивных приложений само по себе забавное занятие. \n",
    "Напишем, например, программу, которая здоровается с нами по имени."
   ],
   "metadata": {}
  },
  {
   "cell_type": "code",
   "execution_count": null,
   "source": [
    "name = input(\"Введите ваше имя: \")\r\n",
    "print(\"Привет,\",name)"
   ],
   "outputs": [],
   "metadata": {}
  },
  {
   "cell_type": "markdown",
   "source": [
    "Что здесь произшло? В первой строчке мы использовали функцию input. \n",
    "Она вывела на экран строчку, которую ей передали (обязательно в кавычках) и запросила ответ с клавиатуры. \n",
    "Указали своё имя. После чего **input** вернула строчку \"_________\" и эта строчка была присвоена переменной name. \n",
    "После этого во второй строке была вызвана функция **print** и ей были переданы две строчки — \"Привет,\" и то, \n",
    "что хранилось в переменной **name**. \n",
    "Функция **print** вывела эти две строчки последовательно, разделив пробелом. \n",
    "Заметим, что в переменной name по-прежнему лежит та строчка, которую мы ввели с клавиатуры."
   ],
   "metadata": {}
  },
  {
   "cell_type": "code",
   "execution_count": null,
   "source": [
    "name"
   ],
   "outputs": [],
   "metadata": {}
  },
  {
   "cell_type": "markdown",
   "source": [
    "Попробуем теперь написать программу «удвоитель». \n",
    "Она должна будет принимать на вход число, удваивать его и возвращать результат. (x=12)"
   ],
   "metadata": {}
  },
  {
   "cell_type": "code",
   "execution_count": null,
   "source": [
    "x = input(\"Введите какое-нибудь число: \")\r\n",
    "print(x*2)"
   ],
   "outputs": [],
   "metadata": {}
  },
  {
   "cell_type": "markdown",
   "source": [
    "Что-то здесь не то. Конечно, в некотором смысле компьютер сделал то, что мы его просили — было одно число 12, \n",
    "а стало два, но мы-то хотели чего-то другого. Почему так получилось? Дело в том, \n",
    "что input всегда возращает строку (он же не знает, что мы введём — цифлы или какие-то другие символы; \n",
    "он не понимает, что в запросе сказан «Введите какое-нибудь число» — для него это просто какая-то строка). \n",
    "И в переменной x сейчас не число 12, а строка '12' (обратите внимание на апострофы)."
   ],
   "metadata": {}
  },
  {
   "cell_type": "code",
   "execution_count": null,
   "source": [
    "x"
   ],
   "outputs": [],
   "metadata": {}
  },
  {
   "cell_type": "markdown",
   "source": [
    "Чтобы работать с ним как с числом, надо его превратить из строкового типа в числовой. \n",
    "Например, если мы хотим работать только с целыми числами, то подходящим будет тип **int** (от слова integer, целое число)."
   ],
   "metadata": {}
  },
  {
   "cell_type": "code",
   "execution_count": null,
   "source": [
    "int(x)"
   ],
   "outputs": [],
   "metadata": {}
  },
  {
   "cell_type": "markdown",
   "source": [
    "Видите, апострофов нет — это уже число. Слово int это одновременно и обозначение типа данных (целые числа) и функция, \n",
    "которая превращает то, что ей передали в качестве аргумента, в указанный тип данных.\n",
    "\n",
    "Перепишем программу-удвоитель следующим образом:"
   ],
   "metadata": {}
  },
  {
   "cell_type": "code",
   "execution_count": null,
   "source": [
    "x_str = input(\"Введите какое-нибудь число: \")\r\n",
    "x = int(x_str)\r\n",
    "print(x*2)"
   ],
   "outputs": [],
   "metadata": {}
  },
  {
   "cell_type": "markdown",
   "source": [
    "Совсем другое дело! Теперь в x_str лежит строчка, которую мы ввели, в x помещается результат её преобразования в целое число, \n",
    "и дальше это число удваивается и выводится на экран. Можно было бы не вводить дополнительную переменную (и сэкономить строчку):"
   ],
   "metadata": {}
  },
  {
   "cell_type": "markdown",
   "source": [
    "Попробуем ещё раз. Введите х = 12.34"
   ],
   "metadata": {}
  },
  {
   "cell_type": "code",
   "execution_count": null,
   "source": [
    "x = int(input(\"Введите какое-нибудь число: \"))\r\n",
    "print(x*2)"
   ],
   "outputs": [],
   "metadata": {}
  },
  {
   "cell_type": "markdown",
   "source": [
    "Вы попробовали ввести число 12.34 (нецелое) и Python не смог привести его в типу **int** \n",
    "(то есть сделать из строчки \"12.34\" целое число и выдал ошибку. \n",
    "Если бы мы хотели работать с нецелыми числами, \n",
    "нам нужно было использовать тип **float** (от слова float, плавать — обозначает плавающую точку)."
   ],
   "metadata": {}
  },
  {
   "cell_type": "markdown",
   "source": [
    "Попробуем ещё раз. "
   ],
   "metadata": {}
  },
  {
   "cell_type": "code",
   "execution_count": 3,
   "source": [
    "x = float(input(\"Введите какое-нибудь число (не обязательно целое): \"))\r\n",
    "print(x*2)"
   ],
   "outputs": [
    {
     "output_type": "stream",
     "name": "stdout",
     "text": [
      "10.0\n"
     ]
    }
   ],
   "metadata": {}
  },
  {
   "cell_type": "code",
   "execution_count": null,
   "source": [
    "a = 1 # первое число\r\n",
    "b = 1 # второе число\r\n",
    "i = 2 # номер того числа, которое находится в переменной b (сейчас это a_2)"
   ],
   "outputs": [],
   "metadata": {}
  },
  {
   "cell_type": "markdown",
   "source": [
    "Мы будем хранить два последних числа, поскольку именно они определяют следующее, \n",
    "а также номер последнего найденного числа (переменная i)."
   ],
   "metadata": {}
  },
  {
   "cell_type": "code",
   "execution_count": null,
   "source": [
    "c = a + b # нашли следующее число\r\n",
    "i = i + 1 # увеличили i на 1\r\n",
    "a = b   # значение a нам уже не нужно, а вот значение b ещё пригодится\r\n",
    "b = c   # запомнили вычисленное значение\r\n",
    "print(i, b)"
   ],
   "outputs": [],
   "metadata": {}
  },
  {
   "cell_type": "markdown",
   "source": [
    "Питон выполняет команды последовательно, строчку за строчкой, поэтому порядок следоавния команд очень важен. \n",
    "Выполняя эту ячейку несколько раз, вы будете получать каждый раз очередное число Фибоначчи.\n",
    "\n",
    "**Контрольный вопрос**. Что произойдёт, если мы поменяем местами две строчки до print?"
   ],
   "metadata": {}
  },
  {
   "cell_type": "code",
   "execution_count": 2,
   "source": [
    "# Повторим этот код ещё раз\r\n",
    "\r\n",
    "c = a + b # нашли следующее число\r\n",
    "i = i + 1 # увеличили i на 1\r\n",
    "a = b   # значение a нам уже не нужно, а вот значение b ещё пригодится\r\n",
    "b = c   # запомнили вычисленное значение\r\n",
    "print(i, b)"
   ],
   "outputs": [
    {
     "output_type": "error",
     "ename": "NameError",
     "evalue": "name 'a' is not defined",
     "traceback": [
      "\u001b[1;31m---------------------------------------------------------------------------\u001b[0m",
      "\u001b[1;31mNameError\u001b[0m                                 Traceback (most recent call last)",
      "\u001b[1;32mC:\\Users\\73B5~1\\AppData\\Local\\Temp/ipykernel_10740/4025367575.py\u001b[0m in \u001b[0;36m<module>\u001b[1;34m\u001b[0m\n\u001b[0;32m      1\u001b[0m \u001b[1;31m# Повторим этот код ещё раз\u001b[0m\u001b[1;33m\u001b[0m\u001b[1;33m\u001b[0m\u001b[1;33m\u001b[0m\u001b[0m\n\u001b[0;32m      2\u001b[0m \u001b[1;33m\u001b[0m\u001b[0m\n\u001b[1;32m----> 3\u001b[1;33m \u001b[0mc\u001b[0m \u001b[1;33m=\u001b[0m \u001b[0ma\u001b[0m \u001b[1;33m+\u001b[0m \u001b[0mb\u001b[0m \u001b[1;31m# нашли следующее число\u001b[0m\u001b[1;33m\u001b[0m\u001b[1;33m\u001b[0m\u001b[0m\n\u001b[0m\u001b[0;32m      4\u001b[0m \u001b[0mi\u001b[0m \u001b[1;33m=\u001b[0m \u001b[0mi\u001b[0m \u001b[1;33m+\u001b[0m \u001b[1;36m1\u001b[0m \u001b[1;31m# увеличили i на 1\u001b[0m\u001b[1;33m\u001b[0m\u001b[1;33m\u001b[0m\u001b[0m\n\u001b[0;32m      5\u001b[0m \u001b[0ma\u001b[0m \u001b[1;33m=\u001b[0m \u001b[0mb\u001b[0m   \u001b[1;31m# значение a нам уже не нужно, а вот значение b ещё пригодится\u001b[0m\u001b[1;33m\u001b[0m\u001b[1;33m\u001b[0m\u001b[0m\n",
      "\u001b[1;31mNameError\u001b[0m: name 'a' is not defined"
     ]
    }
   ],
   "metadata": {}
  },
  {
   "cell_type": "code",
   "execution_count": null,
   "source": [
    "# И ещё раз\r\n",
    "\r\n",
    "c = a + b # нашли следующее число\r\n",
    "i = i + 1 # увеличили i на 1\r\n",
    "a = b   # значение a нам уже не нужно, а вот значение b ещё пригодится\r\n",
    "b = c   # запомнили вычисленное значение\r\n",
    "print(i, b)"
   ],
   "outputs": [],
   "metadata": {}
  },
  {
   "cell_type": "code",
   "execution_count": null,
   "source": [
    "# И ещё раз\r\n",
    "\r\n",
    "c = a + b # нашли следующее число\r\n",
    "i = i + 1 # увеличили i на 1\r\n",
    "a = b   # значение a нам уже не нужно, а вот значение b ещё пригодится\r\n",
    "b = c   # запомнили вычисленное значение\r\n",
    "print(i, b)"
   ],
   "outputs": [],
   "metadata": {}
  },
  {
   "cell_type": "markdown",
   "source": [
    "**Совет**: Можно было не копироать эту ячейку с кодом много раз, а просто запускать одну и ту же ячейку неколько раз. \n",
    "\n",
    "Проще всего это сделать с помощью комбинации Ctrl+Enter."
   ],
   "metadata": {}
  },
  {
   "cell_type": "markdown",
   "source": [
    "# Практическое задание № 1\n",
    "Вычислите 2 в 179 стпени. Выведите на экран вычисленное значение."
   ],
   "metadata": {}
  },
  {
   "cell_type": "code",
   "execution_count": 4,
   "source": [
    "print(2 ** 179)"
   ],
   "outputs": [
    {
     "output_type": "stream",
     "name": "stdout",
     "text": [
      "766247770432944429179173513575154591809369561091801088\n"
     ]
    }
   ],
   "metadata": {}
  },
  {
   "cell_type": "markdown",
   "source": [
    "# Практическое задание № 2\n",
    "Запишите слово Python 100 раз подряд. Сдайте на проверку программу, которая выводит эту строчку (только буквы, без кавычек).\n",
    "\n",
    "**Подсказка:** Попробуйте умножить строку на число. Что получится?"
   ],
   "metadata": {}
  },
  {
   "cell_type": "code",
   "execution_count": 5,
   "source": [
    "print('Python' * 100)"
   ],
   "outputs": [
    {
     "output_type": "stream",
     "name": "stdout",
     "text": [
      "PythonPythonPythonPythonPythonPythonPythonPythonPythonPythonPythonPythonPythonPythonPythonPythonPythonPythonPythonPythonPythonPythonPythonPythonPythonPythonPythonPythonPythonPythonPythonPythonPythonPythonPythonPythonPythonPythonPythonPythonPythonPythonPythonPythonPythonPythonPythonPythonPythonPythonPythonPythonPythonPythonPythonPythonPythonPythonPythonPythonPythonPythonPythonPythonPythonPythonPythonPythonPythonPythonPythonPythonPythonPythonPythonPythonPythonPythonPythonPythonPythonPythonPythonPythonPythonPythonPythonPythonPythonPythonPythonPythonPythonPythonPythonPythonPythonPythonPythonPython\n"
     ]
    }
   ],
   "metadata": {}
  },
  {
   "cell_type": "markdown",
   "source": [
    "# Практическое задание № 3\n",
    "Дано два числа: a и b. Найдите гипотенузу треугольника с заданными катетами.\n",
    "\n",
    "**Входные данные**\n",
    "В двух строках вводятся два числа (числа целые, положительные, не превышают 1000).\n",
    "\n",
    "**Выходные данные**\n",
    "Выведите ответ на задачу.\n",
    "\n",
    "**Пример**\n",
    "\n",
    "Входные данные\n",
    "\n",
    "3\n",
    "\n",
    "4\n",
    "\n",
    "Выходные данные\n",
    "\n",
    "5.0"
   ],
   "metadata": {}
  },
  {
   "cell_type": "code",
   "execution_count": 8,
   "source": [
    "a = int(input())\r\n",
    "b = int(input())\r\n",
    "c = (a ** 2 + b ** 2) ** 0.5\r\n",
    "print(c)"
   ],
   "outputs": [
    {
     "output_type": "stream",
     "name": "stdout",
     "text": [
      "4.242640687119285\n"
     ]
    }
   ],
   "metadata": {}
  },
  {
   "cell_type": "markdown",
   "source": [
    "# Практическое задание № 4\n",
    "N школьников делят K яблок поровну, неделящийся остаток остается в корзинке. Сколько яблок достанется каждому школьнику?\n",
    "\n",
    "**Входные данные**\n",
    "Программа получает на вход числа N и K.\n",
    "\n",
    "**Выходные данные**\n",
    "Программа должна вывести искомое количество яблок.\n",
    "\n",
    "**Примеры**\n",
    "\n",
    "Входные данные\n",
    "\n",
    "3\n",
    "\n",
    "14\n",
    "\n",
    "Выходные данные\n",
    "\n",
    "4"
   ],
   "metadata": {}
  },
  {
   "cell_type": "code",
   "execution_count": 12,
   "source": [
    "n = int(input())\r\n",
    "k = int(input())\r\n",
    "print(k // n)"
   ],
   "outputs": [
    {
     "output_type": "stream",
     "name": "stdout",
     "text": [
      "4\n"
     ]
    }
   ],
   "metadata": {}
  },
  {
   "cell_type": "markdown",
   "source": [
    "# Практическое задание № 5\n",
    "Дано трехзначное число. Найдите сумму его цифр.\n",
    "\n",
    "**Входные данные**\n",
    "Вводится целое положительное число. Гарантируется, что оно соответствует условию задачи.\n",
    "\n",
    "**Выходные данные**\n",
    "Выведите ответ на задачу.\n",
    "\n",
    "**Пример**\n",
    "\n",
    "Входные данные\n",
    "\n",
    "179\n",
    "\n",
    "Выходные данные\n",
    "\n",
    "17"
   ],
   "metadata": {}
  },
  {
   "cell_type": "code",
   "execution_count": 13,
   "source": [
    "n = input()\r\n",
    "print(int(n[0]) + int(n[1]) + int(n[2]))"
   ],
   "outputs": [
    {
     "output_type": "stream",
     "name": "stdout",
     "text": [
      "17\n"
     ]
    }
   ],
   "metadata": {}
  }
 ],
 "metadata": {
  "kernelspec": {
   "name": "python3",
   "display_name": "Python 3.8.5 64-bit (system)"
  },
  "language_info": {
   "codemirror_mode": {
    "name": "ipython",
    "version": 3
   },
   "file_extension": ".py",
   "mimetype": "text/x-python",
   "name": "python",
   "nbconvert_exporter": "python",
   "pygments_lexer": "ipython3",
   "version": "3.8.5"
  },
  "interpreter": {
   "hash": "c731eb2f20897c16c8f0a0543e09f7b45a779822075faf775d9a095afbe746bc"
  }
 },
 "nbformat": 4,
 "nbformat_minor": 2
}